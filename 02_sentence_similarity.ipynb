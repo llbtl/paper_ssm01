{
 "cells": [
  {
   "cell_type": "markdown",
   "id": "9f7fbb7c",
   "metadata": {
    "id": "Bug1kQhloB4Y"
   },
   "source": [
    "# 02_Sentence Similarity"
   ]
  },
  {
   "cell_type": "markdown",
   "id": "6bafdb33",
   "metadata": {
    "id": "A8WKbOipoB4c"
   },
   "source": [
    "### Import Libraries"
   ]
  },
  {
   "cell_type": "code",
   "execution_count": null,
   "id": "86b00541",
   "metadata": {
    "id": "MSVCpEGvoB4b"
   },
   "outputs": [],
   "source": [
    "import numpy as np\n",
    "import pandas as pd\n",
    "import matplotlib.pyplot as plt"
   ]
  },
  {
   "cell_type": "code",
   "execution_count": null,
   "id": "7a044f93",
   "metadata": {
    "id": "MSVCpEGvoB4b"
   },
   "outputs": [],
   "source": [
    "from sentence_transformers import SentenceTransformer, util"
   ]
  },
  {
   "cell_type": "markdown",
   "id": "129b4b71",
   "metadata": {
    "id": "A8WKbOipoB4c"
   },
   "source": [
    "### Define File Paths"
   ]
  },
  {
   "cell_type": "code",
   "execution_count": null,
   "id": "93fa12f9",
   "metadata": {
    "id": "q8itMUInoB4d"
   },
   "outputs": [],
   "source": [
    "fname_sdg           = 'data/sdg.xlsx'\n",
    "fname_sentences     = 'data/sentences.csv'\n",
    "fname_similarity    = 'data/result_similarity.pkl'"
   ]
  },
  {
   "cell_type": "markdown",
   "id": "57cd3051",
   "metadata": {
    "id": "b3wOqoNioB4d"
   },
   "source": [
    "### Read SDG File & Clean Data"
   ]
  },
  {
   "cell_type": "code",
   "execution_count": null,
   "id": "ea4d186b",
   "metadata": {
    "colab": {
     "base_uri": "https://localhost:8080/",
     "height": 419
    },
    "id": "UDj-iWpBoB4d",
    "outputId": "2965c007-d70b-42e7-9056-55cb0615f638"
   },
   "outputs": [],
   "source": [
    "df_sdg = pd.read_excel(fname_sdg)"
   ]
  },
  {
   "cell_type": "code",
   "execution_count": null,
   "id": "5bf62508",
   "metadata": {},
   "outputs": [],
   "source": [
    "# Replace characters that are not on the keyboard with a space.\n",
    "reg_str = r'[^!\"#$%&\\'()*+,-./:;<=>?@\\[\\]^_\\`{|}~\\\\\\\\0-9a-zA-Z]'\n",
    "df_sdg['sentence'] = df_sdg['sentence'].str.replace(reg_str,' ', regex=True)"
   ]
  },
  {
   "cell_type": "code",
   "execution_count": null,
   "id": "45503861",
   "metadata": {},
   "outputs": [],
   "source": [
    "df_sdg"
   ]
  },
  {
   "cell_type": "markdown",
   "id": "f3f71040",
   "metadata": {
    "id": "BgyXbw0BoB4e"
   },
   "source": [
    "### Read Report Sentences & Clean Data"
   ]
  },
  {
   "cell_type": "code",
   "execution_count": null,
   "id": "5360ea05",
   "metadata": {
    "colab": {
     "base_uri": "https://localhost:8080/",
     "height": 419
    },
    "id": "Il1_uNCIoB4f",
    "outputId": "2ac4a895-da4e-4073-9819-c30a363af581"
   },
   "outputs": [],
   "source": [
    "df_report = pd.read_csv(fname_sentences)"
   ]
  },
  {
   "cell_type": "code",
   "execution_count": null,
   "id": "ec3af6d9",
   "metadata": {},
   "outputs": [],
   "source": [
    "# Replace characters that are not on the keyboard with a space.\n",
    "reg_str = r'[^!\"#$%&\\'()*+,-./:;<=>?@\\[\\]^_\\`{|}~\\\\\\\\0-9a-zA-Z]'\n",
    "df_report['sentence'] = df_report['sentence'].str.replace(reg_str,' ', regex=True)"
   ]
  },
  {
   "cell_type": "code",
   "execution_count": null,
   "id": "09c22de0",
   "metadata": {},
   "outputs": [],
   "source": [
    "df_report"
   ]
  },
  {
   "cell_type": "markdown",
   "id": "dc6aab69",
   "metadata": {
    "id": "krfJJbgvoB4f"
   },
   "source": [
    "### Calculate Sentence Similarity Scores"
   ]
  },
  {
   "cell_type": "code",
   "execution_count": null,
   "id": "26a3ac26",
   "metadata": {
    "colab": {
     "base_uri": "https://localhost:8080/"
    },
    "id": "Fhgvu3jYoB4f",
    "outputId": "fab3e6bd-c9c4-4acb-a61b-99ace60fa766",
    "scrolled": false
   },
   "outputs": [],
   "source": [
    "%%time\n",
    "\n",
    "model = SentenceTransformer('all-MiniLM-L6-v2')\n",
    "\n",
    "# Create lists of sentences\n",
    "sentences1 = df_sdg['sentence'].tolist()\n",
    "sentences2 = df_report['sentence'].tolist()\n",
    "\n",
    "#Compute embeddings for both lists\n",
    "embedding1 = model.encode(sentences1, convert_to_tensor=True)\n",
    "embedding2 = model.encode(sentences2, convert_to_tensor=True)\n",
    "\n",
    "#Compute cosine-similarity\n",
    "cosine_scores = util.pytorch_cos_sim(embedding1, embedding2)"
   ]
  },
  {
   "cell_type": "code",
   "execution_count": null,
   "id": "89fa258f",
   "metadata": {
    "id": "2UlAJTpdoB4g"
   },
   "outputs": [],
   "source": [
    "sim_array = np.array(cosine_scores.cpu()).transpose()"
   ]
  },
  {
   "cell_type": "code",
   "execution_count": null,
   "id": "07b204c3",
   "metadata": {
    "colab": {
     "base_uri": "https://localhost:8080/"
    },
    "id": "BMBMn04EoB4g",
    "outputId": "f6a53640-32a5-40cc-d737-06dc8bf71169"
   },
   "outputs": [],
   "source": [
    "sim_array.shape"
   ]
  },
  {
   "cell_type": "markdown",
   "id": "10342708",
   "metadata": {
    "id": "QGNG5_PjoB4g"
   },
   "source": [
    "### Similarity Score for Each Sentence"
   ]
  },
  {
   "cell_type": "code",
   "execution_count": null,
   "id": "610d5e2d",
   "metadata": {
    "colab": {
     "base_uri": "https://localhost:8080/"
    },
    "id": "FLmCfGLAoB4h",
    "outputId": "443bd179-c6f8-40e8-f9f1-37fb5271850f"
   },
   "outputs": [],
   "source": [
    "sr_sdg = df_sdg['goalnum'].value_counts().sort_index()\n",
    "sr_sdg"
   ]
  },
  {
   "cell_type": "code",
   "execution_count": null,
   "id": "09c0eb8e",
   "metadata": {
    "colab": {
     "base_uri": "https://localhost:8080/"
    },
    "id": "OyxQs8akoB4h",
    "outputId": "bc414f6e-6976-40ea-d235-7ba18a9fec45",
    "scrolled": true
   },
   "outputs": [],
   "source": [
    "%%time\n",
    "\n",
    "sr_sdg = df_sdg['goalnum'].value_counts().sort_index()\n",
    "\n",
    "# Initialize\n",
    "for key in sr_sdg.index:\n",
    "    df_report[key] = 0.0\n",
    "\n",
    "for idx in df_report.index:\n",
    "    off_b = 0\n",
    "    off_e = 0\n",
    "    \n",
    "    for key in sr_sdg.index:\n",
    "        off_b = off_e\n",
    "        off_e += sr_sdg[key]\n",
    "        df_report.loc[idx,key] = sim_array[idx][off_b:off_e].mean()\n",
    "        \n",
    "    if idx % 1000 == 0:\n",
    "        print('<cnt:{}, idx:{}> ======================'.format(idx//1000,idx))\n",
    "        \n",
    "print('==== End of job ======================')"
   ]
  },
  {
   "cell_type": "code",
   "execution_count": null,
   "id": "0e061020",
   "metadata": {
    "colab": {
     "base_uri": "https://localhost:8080/",
     "height": 1000
    },
    "id": "JqQODolPoB4h",
    "outputId": "8bdb2674-2243-4b11-e64f-3fc2bf916a52",
    "scrolled": false
   },
   "outputs": [],
   "source": [
    "df_report"
   ]
  },
  {
   "cell_type": "markdown",
   "id": "d722baef",
   "metadata": {
    "id": "x_QhMQsPoB4i"
   },
   "source": [
    "### Pickle the Result"
   ]
  },
  {
   "cell_type": "code",
   "execution_count": null,
   "id": "8b352efd",
   "metadata": {
    "id": "vv83mnj7oB4i"
   },
   "outputs": [],
   "source": [
    "df_report.to_pickle(fname_result)"
   ]
  },
  {
   "cell_type": "markdown",
   "id": "e1a5bfe0",
   "metadata": {
    "id": "H8hpKCe3oB4i"
   },
   "source": [
    "---"
   ]
  },
  {
   "cell_type": "code",
   "execution_count": null,
   "id": "80bf570d",
   "metadata": {
    "id": "rxw4TkmwoB4i"
   },
   "outputs": [],
   "source": [
    "# End of file"
   ]
  }
 ],
 "metadata": {
  "accelerator": "GPU",
  "colab": {
   "collapsed_sections": [],
   "name": "02_calculate_score_transformers.ipynb",
   "provenance": []
  },
  "kernelspec": {
   "display_name": "Python 3",
   "language": "python",
   "name": "python3"
  },
  "language_info": {
   "codemirror_mode": {
    "name": "ipython",
    "version": 3
   },
   "file_extension": ".py",
   "mimetype": "text/x-python",
   "name": "python",
   "nbconvert_exporter": "python",
   "pygments_lexer": "ipython3",
   "version": "3.8.8"
  },
  "vp": {
   "vp_config_version": "1.0.0",
   "vp_menu_width": 273,
   "vp_note_display": true,
   "vp_note_width": 263,
   "vp_position": {
    "width": 541
   },
   "vp_section_display": false,
   "vp_signature": "VisualPython"
  }
 },
 "nbformat": 4,
 "nbformat_minor": 5
}
